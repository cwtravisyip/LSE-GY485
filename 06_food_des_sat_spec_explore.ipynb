{
 "cells": [
  {
   "cell_type": "markdown",
   "metadata": {},
   "source": [
    "## Exploratory Visualisation: Matrix Method of Food Desert Specification"
   ]
  },
  {
   "cell_type": "markdown",
   "metadata": {},
   "source": [
    "In this notebook, we will explore the MSOAs for which the matrix specification of food desert has been defined."
   ]
  },
  {
   "cell_type": "code",
   "execution_count": 1,
   "metadata": {},
   "outputs": [],
   "source": [
    "import pandas as  pd \n",
    "import geopandas as gpd \n",
    "import numpy as np \n",
    "import json\n",
    "import geojson\n",
    "\n",
    "import matplotlib.pyplot as plt \n",
    "import seaborn as sns\n",
    "import folium\n",
    "\n",
    "plt.style.use('ggplot')\n",
    "# sns.set_style(style=\"ggplot\", rc=None)#"
   ]
  },
  {
   "cell_type": "markdown",
   "metadata": {},
   "source": [
    "### 1. Load the Data"
   ]
  },
  {
   "cell_type": "code",
   "execution_count": 2,
   "metadata": {},
   "outputs": [],
   "source": [
    "# load the shape file\n",
    "msoa = gpd.read_file(\"./data/MSOA_2021\")\n",
    "\n",
    "# load the food desert indicator\n",
    "food_des = pd.read_csv(\"./data/spmkt_spec_satellite.csv\", index_col = 0)\n",
    "\n",
    "# urban classification\n",
    "urbs = pd.read_csv(\"./data/ons_census_2021.csv\")"
   ]
  },
  {
   "cell_type": "code",
   "execution_count": 20,
   "metadata": {},
   "outputs": [],
   "source": [
    "# subset for English MSOAs only\n",
    "msoa = msoa[msoa[\"MSOA21CD\"].str.contains(\"E\")]\n",
    "# merge the data\n",
    "msoa = msoa.merge(food_des, on = \"MSOA21CD\",how = \"left\")\\\n",
    "        .merge(urbs[[\"MSOA21CD\",\"RUC11\"]], on = \"MSOA21CD\", how = \"left\")\n",
    "# return urban column\n",
    "msoa[\"urbs\"] = msoa[\"RUC11\"].str.contains(\"Urban\").map({True:\"Urban\",False:\"Rural\"})"
   ]
  },
  {
   "cell_type": "code",
   "execution_count": 21,
   "metadata": {},
   "outputs": [
    {
     "data": {
      "text/html": [
       "<div>\n",
       "<style scoped>\n",
       "    .dataframe tbody tr th:only-of-type {\n",
       "        vertical-align: middle;\n",
       "    }\n",
       "\n",
       "    .dataframe tbody tr th {\n",
       "        vertical-align: top;\n",
       "    }\n",
       "\n",
       "    .dataframe thead th {\n",
       "        text-align: right;\n",
       "    }\n",
       "</style>\n",
       "<table border=\"1\" class=\"dataframe\">\n",
       "  <thead>\n",
       "    <tr style=\"text-align: right;\">\n",
       "      <th></th>\n",
       "      <th>MSOA21CD</th>\n",
       "      <th>MSOA21NM</th>\n",
       "      <th>BNG_E</th>\n",
       "      <th>BNG_N</th>\n",
       "      <th>LONG</th>\n",
       "      <th>LAT</th>\n",
       "      <th>GlobalID</th>\n",
       "      <th>geometry</th>\n",
       "      <th>value</th>\n",
       "      <th>RUC11</th>\n",
       "      <th>urbs</th>\n",
       "    </tr>\n",
       "  </thead>\n",
       "  <tbody>\n",
       "    <tr>\n",
       "      <th>count</th>\n",
       "      <td>6856</td>\n",
       "      <td>6856</td>\n",
       "      <td>6856.000000</td>\n",
       "      <td>6856.000000</td>\n",
       "      <td>6856.000000</td>\n",
       "      <td>6856.000000</td>\n",
       "      <td>6856</td>\n",
       "      <td>6856</td>\n",
       "      <td>6.717000e+03</td>\n",
       "      <td>6856</td>\n",
       "      <td>6856</td>\n",
       "    </tr>\n",
       "    <tr>\n",
       "      <th>unique</th>\n",
       "      <td>6856</td>\n",
       "      <td>6856</td>\n",
       "      <td>NaN</td>\n",
       "      <td>NaN</td>\n",
       "      <td>NaN</td>\n",
       "      <td>NaN</td>\n",
       "      <td>6856</td>\n",
       "      <td>6856</td>\n",
       "      <td>NaN</td>\n",
       "      <td>8</td>\n",
       "      <td>2</td>\n",
       "    </tr>\n",
       "    <tr>\n",
       "      <th>top</th>\n",
       "      <td>E02000001</td>\n",
       "      <td>City of London 001</td>\n",
       "      <td>NaN</td>\n",
       "      <td>NaN</td>\n",
       "      <td>NaN</td>\n",
       "      <td>NaN</td>\n",
       "      <td>283e7adc-faef-4736-9a0b-146cb27c72ec</td>\n",
       "      <td>POLYGON ((532153.7029999997 182165.15499999933...</td>\n",
       "      <td>NaN</td>\n",
       "      <td>Urban city and town</td>\n",
       "      <td>Urban</td>\n",
       "    </tr>\n",
       "    <tr>\n",
       "      <th>freq</th>\n",
       "      <td>1</td>\n",
       "      <td>1</td>\n",
       "      <td>NaN</td>\n",
       "      <td>NaN</td>\n",
       "      <td>NaN</td>\n",
       "      <td>NaN</td>\n",
       "      <td>1</td>\n",
       "      <td>1</td>\n",
       "      <td>NaN</td>\n",
       "      <td>2966</td>\n",
       "      <td>5658</td>\n",
       "    </tr>\n",
       "    <tr>\n",
       "      <th>mean</th>\n",
       "      <td>NaN</td>\n",
       "      <td>NaN</td>\n",
       "      <td>453969.743145</td>\n",
       "      <td>275745.554551</td>\n",
       "      <td>-1.216356</td>\n",
       "      <td>52.370738</td>\n",
       "      <td>NaN</td>\n",
       "      <td>NaN</td>\n",
       "      <td>1.200794e-06</td>\n",
       "      <td>NaN</td>\n",
       "      <td>NaN</td>\n",
       "    </tr>\n",
       "    <tr>\n",
       "      <th>std</th>\n",
       "      <td>NaN</td>\n",
       "      <td>NaN</td>\n",
       "      <td>84059.420657</td>\n",
       "      <td>127007.741405</td>\n",
       "      <td>1.216644</td>\n",
       "      <td>1.146381</td>\n",
       "      <td>NaN</td>\n",
       "      <td>NaN</td>\n",
       "      <td>1.912018e-06</td>\n",
       "      <td>NaN</td>\n",
       "      <td>NaN</td>\n",
       "    </tr>\n",
       "    <tr>\n",
       "      <th>min</th>\n",
       "      <td>NaN</td>\n",
       "      <td>NaN</td>\n",
       "      <td>91327.000000</td>\n",
       "      <td>11447.000000</td>\n",
       "      <td>-6.302170</td>\n",
       "      <td>49.923300</td>\n",
       "      <td>NaN</td>\n",
       "      <td>NaN</td>\n",
       "      <td>1.092951e-09</td>\n",
       "      <td>NaN</td>\n",
       "      <td>NaN</td>\n",
       "    </tr>\n",
       "    <tr>\n",
       "      <th>25%</th>\n",
       "      <td>NaN</td>\n",
       "      <td>NaN</td>\n",
       "      <td>393522.250000</td>\n",
       "      <td>175117.250000</td>\n",
       "      <td>-2.098055</td>\n",
       "      <td>51.463100</td>\n",
       "      <td>NaN</td>\n",
       "      <td>NaN</td>\n",
       "      <td>1.929682e-07</td>\n",
       "      <td>NaN</td>\n",
       "      <td>NaN</td>\n",
       "    </tr>\n",
       "    <tr>\n",
       "      <th>50%</th>\n",
       "      <td>NaN</td>\n",
       "      <td>NaN</td>\n",
       "      <td>448350.000000</td>\n",
       "      <td>259002.500000</td>\n",
       "      <td>-1.285650</td>\n",
       "      <td>52.215550</td>\n",
       "      <td>NaN</td>\n",
       "      <td>NaN</td>\n",
       "      <td>5.861599e-07</td>\n",
       "      <td>NaN</td>\n",
       "      <td>NaN</td>\n",
       "    </tr>\n",
       "    <tr>\n",
       "      <th>75%</th>\n",
       "      <td>NaN</td>\n",
       "      <td>NaN</td>\n",
       "      <td>524110.500000</td>\n",
       "      <td>389067.500000</td>\n",
       "      <td>-0.208935</td>\n",
       "      <td>53.395700</td>\n",
       "      <td>NaN</td>\n",
       "      <td>NaN</td>\n",
       "      <td>1.323793e-06</td>\n",
       "      <td>NaN</td>\n",
       "      <td>NaN</td>\n",
       "    </tr>\n",
       "    <tr>\n",
       "      <th>max</th>\n",
       "      <td>NaN</td>\n",
       "      <td>NaN</td>\n",
       "      <td>654401.000000</td>\n",
       "      <td>651742.000000</td>\n",
       "      <td>1.744020</td>\n",
       "      <td>55.759000</td>\n",
       "      <td>NaN</td>\n",
       "      <td>NaN</td>\n",
       "      <td>2.730745e-05</td>\n",
       "      <td>NaN</td>\n",
       "      <td>NaN</td>\n",
       "    </tr>\n",
       "  </tbody>\n",
       "</table>\n",
       "</div>"
      ],
      "text/plain": [
       "         MSOA21CD            MSOA21NM          BNG_E          BNG_N  \\\n",
       "count        6856                6856    6856.000000    6856.000000   \n",
       "unique       6856                6856            NaN            NaN   \n",
       "top     E02000001  City of London 001            NaN            NaN   \n",
       "freq            1                   1            NaN            NaN   \n",
       "mean          NaN                 NaN  453969.743145  275745.554551   \n",
       "std           NaN                 NaN   84059.420657  127007.741405   \n",
       "min           NaN                 NaN   91327.000000   11447.000000   \n",
       "25%           NaN                 NaN  393522.250000  175117.250000   \n",
       "50%           NaN                 NaN  448350.000000  259002.500000   \n",
       "75%           NaN                 NaN  524110.500000  389067.500000   \n",
       "max           NaN                 NaN  654401.000000  651742.000000   \n",
       "\n",
       "               LONG          LAT                              GlobalID  \\\n",
       "count   6856.000000  6856.000000                                  6856   \n",
       "unique          NaN          NaN                                  6856   \n",
       "top             NaN          NaN  283e7adc-faef-4736-9a0b-146cb27c72ec   \n",
       "freq            NaN          NaN                                     1   \n",
       "mean      -1.216356    52.370738                                   NaN   \n",
       "std        1.216644     1.146381                                   NaN   \n",
       "min       -6.302170    49.923300                                   NaN   \n",
       "25%       -2.098055    51.463100                                   NaN   \n",
       "50%       -1.285650    52.215550                                   NaN   \n",
       "75%       -0.208935    53.395700                                   NaN   \n",
       "max        1.744020    55.759000                                   NaN   \n",
       "\n",
       "                                                 geometry         value  \\\n",
       "count                                                6856  6.717000e+03   \n",
       "unique                                               6856           NaN   \n",
       "top     POLYGON ((532153.7029999997 182165.15499999933...           NaN   \n",
       "freq                                                    1           NaN   \n",
       "mean                                                  NaN  1.200794e-06   \n",
       "std                                                   NaN  1.912018e-06   \n",
       "min                                                   NaN  1.092951e-09   \n",
       "25%                                                   NaN  1.929682e-07   \n",
       "50%                                                   NaN  5.861599e-07   \n",
       "75%                                                   NaN  1.323793e-06   \n",
       "max                                                   NaN  2.730745e-05   \n",
       "\n",
       "                      RUC11   urbs  \n",
       "count                  6856   6856  \n",
       "unique                    8      2  \n",
       "top     Urban city and town  Urban  \n",
       "freq                   2966   5658  \n",
       "mean                    NaN    NaN  \n",
       "std                     NaN    NaN  \n",
       "min                     NaN    NaN  \n",
       "25%                     NaN    NaN  \n",
       "50%                     NaN    NaN  \n",
       "75%                     NaN    NaN  \n",
       "max                     NaN    NaN  "
      ]
     },
     "execution_count": 21,
     "metadata": {},
     "output_type": "execute_result"
    }
   ],
   "source": [
    "# inspect \n",
    "msoa.describe(include = 'all')"
   ]
  },
  {
   "cell_type": "markdown",
   "metadata": {},
   "source": [
    "From this table we can see that the value of food access using the kernel estimate takes a range of $[1.09\\times10^{-9}, 2.7 \\times 10^{-5}]$. Recall that the higher the value, the better the access to food."
   ]
  },
  {
   "cell_type": "markdown",
   "metadata": {},
   "source": [
    "### 2. Static Visualisation\n",
    "Since we only returned a subset of data for this specification, let's fist have an overview using static visualisation.\n",
    "Note that the value for each MSOA is computed as follow:\n",
    "$$ \\frac{\\sum_i urb_i \\times kde_i}{N_u}$$ \n",
    "Where i represents the $i$-th pixel within the msoa. $urb_i$ is an indicator variable, taking the value of 1 if the pixel represents a built-up area and 0 otherwise. $kde_i$ is the supermarket kde value at pixel $i$ and $N_u$ is the number of built-up area pixel within the msoa.\n",
    "\n",
    "Where the access to supermarket is high, the value is high."
   ]
  },
  {
   "cell_type": "code",
   "execution_count": 10,
   "metadata": {},
   "outputs": [
    {
     "name": "stderr",
     "output_type": "stream",
     "text": [
      "No artists with labels found to put in legend.  Note that artists whose label start with an underscore are ignored when legend() is called with no argument.\n"
     ]
    },
    {
     "data": {
      "image/png": "[encoded data removed]",
      "text/plain": [
       "<Figure size 1000x500 with 2 Axes>"
      ]
     },
     "metadata": {},
     "output_type": "display_data"
    }
   ],
   "source": [
    "# specify the parameters\n",
    "var = \"value\" # column name\n",
    "title = \"Food Access Index\"\n",
    "\n",
    "# instantiate plot\n",
    "fig, ax = plt.subplots(figsize = (10,5),ncols = 2)\n",
    "# plot the choropleth\n",
    "msoa.plot(column = var, cmap='OrRd',scheme='quantiles',\n",
    "          missing_kwds = {'color' : \"#878787\", 'label': \"n/a\"},\n",
    "          legend = True,\n",
    "          legend_kwds = {'loc':(0,0.75), 'ncol':2,\"facecolor\":\"#FFFFFF\", \"frameon\":False},\n",
    "          ax=ax[0])\n",
    "# plot the boundary\n",
    "# gpd.GeoSeries(e_border).boundary.plot(ax=ax[0], color = \"#CDCDCD\", linewidth = 0.5)\n",
    "\n",
    "ax[0].set_ylim(0,850000)\n",
    "ax[0].set_title(title, loc = \"left\")\n",
    "ax[0].set_axis_off()\n",
    "# update legend lable\n",
    "leg = ax[0].get_legend()\n",
    "labels = [\"1st Quantile\",\"2nd Quantile\", \"3rd Quantile\",\"4th Quantile\", \"5th Quantile\"]\n",
    "for id, text in enumerate(leg.get_texts()):\n",
    "    if id < 5 :\n",
    "        # get the upper and lower bound\n",
    "        limits = [float(lim) for lim in  text.get_text().split(\",\")]\n",
    "        # paraw as lavle\n",
    "        label = labels[id]\n",
    "        text.set_text(label)\n",
    "\n",
    "\n",
    "# plot frequency density\n",
    "sns.histplot(data = msoa, x = \"value\", hue = \"urbs\",log_scale = True, ax = ax[1])\n",
    "leg.texts[0].set_text(\"Urban\")\n",
    "leg.texts[1].set_text(\"Rural\")\n",
    "ax[1].legend().set_title(\"\")\n",
    "ax[1].set_title(\"Frequency Distribution\")\n",
    "\n",
    "\n",
    "plt.savefig(\"./img/fas_kde.png\", dpi = 300, bbox_inches = \"tight\")\n",
    "plt.show()"
   ]
  },
  {
   "cell_type": "markdown",
   "metadata": {},
   "source": [
    "### 3. Interactive Visualisation\n",
    "The interactive panel enables us to narrow down onto smaller MSOAs."
   ]
  },
  {
   "cell_type": "code",
   "execution_count": 5,
   "metadata": {},
   "outputs": [],
   "source": [
    "# load msoa as json string\n",
    "with open(\"./data/msoa.geojson\") as f:\n",
    "    gj = geojson.load(f)\n",
    "features = gj['features'][0]\n"
   ]
  },
  {
   "cell_type": "code",
   "execution_count": 7,
   "metadata": {},
   "outputs": [
    {
     "data": {
      "text/plain": [
       "dict_keys(['type', 'id', 'geometry', 'properties'])"
      ]
     },
     "execution_count": 7,
     "metadata": {},
     "output_type": "execute_result"
    }
   ],
   "source": [
    "features.keys()"
   ]
  },
  {
   "cell_type": "code",
   "execution_count": 8,
   "metadata": {},
   "outputs": [
    {
     "data": {
      "text/plain": [
       "<folium.features.Choropleth at 0x7f7d196f75b0>"
      ]
     },
     "execution_count": 8,
     "metadata": {},
     "output_type": "execute_result"
    }
   ],
   "source": [
    "# instantiate map\n",
    "m = folium.Map(location=[51.5, -0.5 ], zoom_start=6, tiles=\"CartoDB positron\")\n",
    "\n",
    "# add the polygons MSOA\n",
    "folium.Choropleth(\n",
    "    geo_data=gj,\n",
    "    name=\"choropleth\",\n",
    "    data=food_des,\n",
    "    columns=[\"MSOA21CD\", \"value\"],\n",
    "    key_on=\"feature.properties.MSOA21CD\",\n",
    "    fill_color=\"YlGn\",\n",
    "    fill_opacity=0.7,\n",
    "    line_opacity=0.2,\n",
    "    legend_name=\"Food Access Index\",\n",
    ").add_to(m)"
   ]
  },
  {
   "cell_type": "code",
   "execution_count": 16,
   "metadata": {},
   "outputs": [
    {
     "data": {
      "text/html": [
       "<div>\n",
       "<style scoped>\n",
       "    .dataframe tbody tr th:only-of-type {\n",
       "        vertical-align: middle;\n",
       "    }\n",
       "\n",
       "    .dataframe tbody tr th {\n",
       "        vertical-align: top;\n",
       "    }\n",
       "\n",
       "    .dataframe thead th {\n",
       "        text-align: right;\n",
       "    }\n",
       "</style>\n",
       "<table border=\"1\" class=\"dataframe\">\n",
       "  <thead>\n",
       "    <tr style=\"text-align: right;\">\n",
       "      <th></th>\n",
       "      <th>value</th>\n",
       "    </tr>\n",
       "  </thead>\n",
       "  <tbody>\n",
       "    <tr>\n",
       "      <th>count</th>\n",
       "      <td>6.717000e+03</td>\n",
       "    </tr>\n",
       "    <tr>\n",
       "      <th>mean</th>\n",
       "      <td>1.200794e-06</td>\n",
       "    </tr>\n",
       "    <tr>\n",
       "      <th>std</th>\n",
       "      <td>1.912018e-06</td>\n",
       "    </tr>\n",
       "    <tr>\n",
       "      <th>min</th>\n",
       "      <td>1.092951e-09</td>\n",
       "    </tr>\n",
       "    <tr>\n",
       "      <th>25%</th>\n",
       "      <td>1.929682e-07</td>\n",
       "    </tr>\n",
       "    <tr>\n",
       "      <th>50%</th>\n",
       "      <td>5.861599e-07</td>\n",
       "    </tr>\n",
       "    <tr>\n",
       "      <th>75%</th>\n",
       "      <td>1.323793e-06</td>\n",
       "    </tr>\n",
       "    <tr>\n",
       "      <th>max</th>\n",
       "      <td>2.730745e-05</td>\n",
       "    </tr>\n",
       "  </tbody>\n",
       "</table>\n",
       "</div>"
      ],
      "text/plain": [
       "              value\n",
       "count  6.717000e+03\n",
       "mean   1.200794e-06\n",
       "std    1.912018e-06\n",
       "min    1.092951e-09\n",
       "25%    1.929682e-07\n",
       "50%    5.861599e-07\n",
       "75%    1.323793e-06\n",
       "max    2.730745e-05"
      ]
     },
     "execution_count": 16,
     "metadata": {},
     "output_type": "execute_result"
    }
   ],
   "source": [
    "\n",
    "food_des.describe()"
   ]
  },
  {
   "cell_type": "code",
   "execution_count": 17,
   "metadata": {},
   "outputs": [
    {
     "data": {
      "text/plain": [
       "0.9797257876312718"
      ]
     },
     "execution_count": 17,
     "metadata": {},
     "output_type": "execute_result"
    }
   ],
   "source": [
    "6717/6856"
   ]
  },
  {
   "cell_type": "code",
   "execution_count": null,
   "metadata": {},
   "outputs": [],
   "source": []
  }
 ],
 "metadata": {
  "kernelspec": {
   "display_name": "geospatial",
   "language": "python",
   "name": "python3"
  },
  "language_info": {
   "codemirror_mode": {
    "name": "ipython",
    "version": 3
   },
   "file_extension": ".py",
   "mimetype": "text/x-python",
   "name": "python",
   "nbconvert_exporter": "python",
   "pygments_lexer": "ipython3",
   "version": "3.8.18"
  }
 },
 "nbformat": 4,
 "nbformat_minor": 2
}
